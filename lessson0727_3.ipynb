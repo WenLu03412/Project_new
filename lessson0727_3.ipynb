{
 "cells": [
  {
   "cell_type": "code",
   "execution_count": 7,
   "metadata": {},
   "outputs": [
    {
     "name": "stdout",
     "output_type": "stream",
     "text": [
      "/home/pi/Documents/new_test/github/data\n",
      "目錄已經建立\n",
      "已經有log檔\n"
     ]
    }
   ],
   "source": [
    "import os.path\n",
    "import os\n",
    "import time\n",
    "\n",
    "current_path = os.path.abspath(__name__) #取得目前檔案路徑\n",
    "directory_name = os.path.dirname(current_path) #取得目前資料夾路行\n",
    "data_path = os.path.join(directory_name,'data') #目前資料夾路徑加上data目錄\n",
    "print(data_path)\n",
    "if not os.path.isdir(data_path):\n",
    "    print(\"沒有data的目錄,手動建立目錄\")\n",
    "    os.mkdir(data_path)\n",
    "else:\n",
    "    print(\"目錄已經建立\")\n",
    "\n",
    "log_path = os.path.join(data_path,'iot.log')\n",
    "if not os.path.isfile(log_path):\n",
    "    print(\"沒有iot.log檔,建立新檔\")\n",
    "    with open(log_path,mode='w',encoding='utf-8',newline='') as file:\n",
    "        file.write('時間,濕度,溫度\\n')\n",
    "    \n",
    "else:\n",
    "    print(\"已經有log檔\")"
   ]
  },
  {
   "cell_type": "code",
   "execution_count": 11,
   "metadata": {},
   "outputs": [],
   "source": [
    "\n",
    "\n",
    "localtime = time.localtime()\n",
    "result = time.strftime(\"%Y-%m-%d %I:%M:%S %p\",localtime)\n",
    "with open(log_path,mode='w',encoding='utf-8',newline='') as file:\n",
    "        file.write(result)"
   ]
  }
 ],
 "metadata": {
  "kernelspec": {
   "display_name": "venv1",
   "language": "python",
   "name": "python3"
  },
  "language_info": {
   "codemirror_mode": {
    "name": "ipython",
    "version": 3
   },
   "file_extension": ".py",
   "mimetype": "text/x-python",
   "name": "python",
   "nbconvert_exporter": "python",
   "pygments_lexer": "ipython3",
   "version": "3.11.9"
  }
 },
 "nbformat": 4,
 "nbformat_minor": 2
}
